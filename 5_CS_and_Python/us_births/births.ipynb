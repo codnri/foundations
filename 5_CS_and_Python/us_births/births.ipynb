{
 "cells": [
  {
   "cell_type": "markdown",
   "metadata": {
    "collapsed": true
   },
   "source": [
    "## US Birth Data Set\n",
    "\n",
    "[Original article by FiveThirtyEight about Friday the 13th](http://fivethirtyeight.com/features/some-people-are-too-superstitious-to-have-a-baby-on-friday-the-13th/)\n",
    "\n",
    "The data set contains U.S. births data for the years 1994 to 2003, as provided by the Centers for Disease Control and Prevention's National Center for Health Statistics"
   ]
  },
  {
   "cell_type": "markdown",
   "metadata": {},
   "source": [
    "### Assignment\n",
    "\n",
    "- Open the CSV and split based on new lines\n",
    "- Preview the first 10 entries"
   ]
  },
  {
   "cell_type": "code",
   "execution_count": 5,
   "metadata": {},
   "outputs": [
    {
     "name": "stdout",
     "output_type": "stream",
     "text": [
      "1994,1,1,6,8096\n",
      "\n",
      "1994,1,2,7,7772\n",
      "\n",
      "1994,1,3,1,10142\n",
      "\n",
      "1994,1,4,2,11248\n",
      "\n",
      "1994,1,5,3,11053\n",
      "\n",
      "1994,1,6,4,11406\n",
      "\n",
      "1994,1,7,5,11251\n",
      "\n",
      "1994,1,8,6,8653\n",
      "\n",
      "1994,1,9,7,7910\n",
      "\n",
      "1994,1,10,1,10498\n",
      "\n"
     ]
    }
   ],
   "source": [
    "f = open('us_births.csv')\n",
    "f.readline()\n",
    "for i in range(10):\n",
    "    print(f.readline())"
   ]
  },
  {
   "cell_type": "markdown",
   "metadata": {},
   "source": [
    "### Assignment\n",
    "\n",
    "- Create a function that takes in a CSV and converts the data into a list of lists\n",
    "    - Each row will be a list\n",
    "    - Make sure to convert the values to int\n",
    "    - Return the final list of lists\n",
    "- Preview the first 10 entries of the output"
   ]
  },
  {
   "cell_type": "code",
   "execution_count": 11,
   "metadata": {},
   "outputs": [
    {
     "name": "stdout",
     "output_type": "stream",
     "text": [
      "[1994, 1, 1, 6, 8096]\n",
      "[1994, 1, 2, 7, 7772]\n",
      "[1994, 1, 3, 1, 10142]\n",
      "[1994, 1, 4, 2, 11248]\n",
      "[1994, 1, 5, 3, 11053]\n",
      "[1994, 1, 6, 4, 11406]\n",
      "[1994, 1, 7, 5, 11251]\n",
      "[1994, 1, 8, 6, 8653]\n",
      "[1994, 1, 9, 7, 7910]\n",
      "[1994, 1, 10, 1, 10498]\n"
     ]
    }
   ],
   "source": [
    "def convert_file_to_lists(file):\n",
    "    file.readline()\n",
    "    lists = []\n",
    "    for line in  file.readlines():\n",
    "        lst =[ int(str) for str in line.split(',')]\n",
    "        lists.append(lst)\n",
    "    return lists\n",
    "\n",
    "\n",
    "lists = convert_file_to_lists(open('us_births.csv'))\n",
    "for i in range(10):\n",
    "    print(lists[i])\n",
    "    \n",
    "    "
   ]
  },
  {
   "cell_type": "markdown",
   "metadata": {},
   "source": [
    "### Assignment\n",
    "\n",
    "- Create a function that calculates the number of births each month\n",
    "    - The function input should be the previous list of lists you created\n",
    "    - Use a dictionary and increment the values associated with each month key\n",
    "    - Return the final dictionary\n",
    "- Preview the output"
   ]
  },
  {
   "cell_type": "code",
   "execution_count": 12,
   "metadata": {},
   "outputs": [
    {
     "name": "stdout",
     "output_type": "stream",
     "text": [
      "{1: 3232517, 2: 3018140, 3: 3322069, 4: 3185314, 5: 3350907, 6: 3296530, 7: 3498783, 8: 3525858, 9: 3439698, 10: 3378814, 11: 3171647, 12: 3301860}\n"
     ]
    }
   ],
   "source": [
    "def calculate_number_of_births_per_month(lists):\n",
    "    dic = {1:0,2:0,3:0,4:0,5:0,6:0,7:0,8:0,9:0,10:0,11:0,12:0}\n",
    "    for lst in lists:\n",
    "        dic[lst[1]] += lst[4]\n",
    "    return dic\n",
    "    \n",
    "\n",
    "print(calculate_number_of_births_per_month(lists))"
   ]
  },
  {
   "cell_type": "markdown",
   "metadata": {},
   "source": [
    "### Assignment\n",
    "\n",
    "- Create a function that calculates the number of births each day of the week"
   ]
  },
  {
   "cell_type": "code",
   "execution_count": 13,
   "metadata": {},
   "outputs": [
    {
     "name": "stdout",
     "output_type": "stream",
     "text": [
      "{1: 5789166, 2: 6446196, 3: 6322855, 4: 6288429, 5: 6233657, 6: 4562111, 7: 4079723}\n"
     ]
    }
   ],
   "source": [
    "def calculate_number_of_births_per_day(lists):\n",
    "    dic = {1:0,2:0,3:0,4:0,5:0,6:0,7:0}\n",
    "    for lst in lists:\n",
    "        dic[lst[3]] += lst[4]\n",
    "    return dic\n",
    "\n",
    "print(calculate_number_of_births_per_day(lists))"
   ]
  },
  {
   "cell_type": "markdown",
   "metadata": {},
   "source": [
    "### Assignment\n",
    "\n",
    "- Create a general function that takes the data list of lists and a column index, it should return a dictionary mapping of the unique keys and summed values"
   ]
  },
  {
   "cell_type": "code",
   "execution_count": 14,
   "metadata": {},
   "outputs": [
    {
     "name": "stdout",
     "output_type": "stream",
     "text": [
      "{6: 4562111, 7: 4079723, 1: 5789166, 2: 6446196, 3: 6322855, 4: 6288429, 5: 6233657}\n"
     ]
    }
   ],
   "source": [
    "#lists... the data list of lists\n",
    "#key_column... index of unique key column in the list\n",
    "#value_column... index of value column in the list you'd like to sum up\n",
    "def sum_of_index_of_lists(lists,key_column,value_column):\n",
    "    dic = {}\n",
    "    for lst in lists:\n",
    "        if lst[key_column] in dic.keys():\n",
    "            dic[lst[key_column]] += lst[value_column]\n",
    "        else:\n",
    "            dic[lst[key_column]] = lst[value_column]\n",
    "    return dic\n",
    "\n",
    "print(sum_of_index_of_lists(lists,3,4)) # The result should be same with calculate_number_of_births_per_day(lists)\n",
    "\n",
    "    "
   ]
  },
  {
   "cell_type": "code",
   "execution_count": null,
   "metadata": {},
   "outputs": [],
   "source": []
  }
 ],
 "metadata": {
  "anaconda-cloud": {},
  "kernelspec": {
   "display_name": "Python 3",
   "language": "python",
   "name": "python3"
  },
  "language_info": {
   "codemirror_mode": {
    "name": "ipython",
    "version": 3
   },
   "file_extension": ".py",
   "mimetype": "text/x-python",
   "name": "python",
   "nbconvert_exporter": "python",
   "pygments_lexer": "ipython3",
   "version": "3.6.5"
  }
 },
 "nbformat": 4,
 "nbformat_minor": 1
}
