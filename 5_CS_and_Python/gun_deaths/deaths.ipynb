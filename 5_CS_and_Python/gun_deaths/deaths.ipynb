{
 "cells": [
  {
   "cell_type": "markdown",
   "metadata": {},
   "source": [
    "## US Gun Deaths Data Set\n",
    "\n",
    "[Original article by FiveThirtyEight about Guns](http://fivethirtyeight.com/features/gun-deaths/)\n",
    "\n",
    "The data set contains cleaned gun-death data from the CDC for 2012-2014."
   ]
  },
  {
   "cell_type": "markdown",
   "metadata": {},
   "source": [
    "### Assignment\n",
    "\n",
    "- Import the csv\n",
    "- Read it into a list\n",
    "- Preview the first 5 entries"
   ]
  },
  {
   "cell_type": "code",
   "execution_count": 17,
   "metadata": {},
   "outputs": [
    {
     "name": "stdout",
     "output_type": "stream",
     "text": [
      "['', 'year', 'month', 'intent', 'police', 'sex', 'age', 'race', 'hispanic', 'place', 'education']\n",
      "['1', 2012, '01', 'Suicide', 0, 'M', 34, 'Asian/Pacific Islander', 100, 'Home', 4]\n",
      "['2', 2012, '01', 'Suicide', 0, 'F', 21, 'White', 100, 'Street', 3]\n",
      "['3', 2012, '01', 'Suicide', 0, 'M', 60, 'White', 100, 'Other specified', 4]\n",
      "['4', 2012, '02', 'Suicide', 0, 'M', 64, 'White', 100, 'Home', 4]\n"
     ]
    }
   ],
   "source": [
    "f = open(\"guns.csv\")\n",
    "lists = []\n",
    "for line in f.readlines():\n",
    "    lst = [ int(element) if element.isdigit() else element.strip('\"') for element in line.strip().split(',') ]\n",
    "    lists.append(lst)\n",
    "for i in range(5):\n",
    "    print(lists[i])\n",
    "    "
   ]
  },
  {
   "cell_type": "markdown",
   "metadata": {},
   "source": [
    "### Assignment\n",
    "\n",
    "- Remove the header row from the list of lists\n",
    "- Save it to a separate list"
   ]
  },
  {
   "cell_type": "code",
   "execution_count": 19,
   "metadata": {},
   "outputs": [
    {
     "name": "stdout",
     "output_type": "stream",
     "text": [
      "['1', 2012, '01', 'Suicide', 0, 'M', 34, 'Asian/Pacific Islander', 100, 'Home', 4]\n",
      "['2', 2012, '01', 'Suicide', 0, 'F', 21, 'White', 100, 'Street', 3]\n",
      "['3', 2012, '01', 'Suicide', 0, 'M', 60, 'White', 100, 'Other specified', 4]\n",
      "['4', 2012, '02', 'Suicide', 0, 'M', 64, 'White', 100, 'Home', 4]\n",
      "['5', 2012, '02', 'Suicide', 0, 'M', 31, 'White', 100, 'Other specified', 2]\n"
     ]
    }
   ],
   "source": [
    "lists.pop(0)\n"
   ]
  },
  {
   "cell_type": "markdown",
   "metadata": {},
   "source": [
    "### Assignment\n",
    "\n",
    "- Count the number of gun deaths by year\n",
    "    - It may help to do a list comprehension to get the years\n",
    "    - Iterate over the years with a dictionary to keep count\n",
    "    \n",
    "    "
   ]
  },
  {
   "cell_type": "code",
   "execution_count": 28,
   "metadata": {},
   "outputs": [
    {
     "name": "stdout",
     "output_type": "stream",
     "text": [
      "{2012: 33563, 2013: 33636, 2014: 33598}\n"
     ]
    }
   ],
   "source": [
    "year_list = set([lst[1] for lst in lists])\n",
    "deaths_by_year = {key:0 for key in year_list}\n",
    "for lst in lists:\n",
    "    deaths_by_year[lst[1]] += 1\n",
    "print(deaths_by_year)\n",
    "\n",
    "\n"
   ]
  },
  {
   "cell_type": "markdown",
   "metadata": {},
   "source": [
    "### Assignment\n",
    "\n",
    "- Import the datetime library\n",
    "- Create a new list called \"dates\" with values from the data (set all the day values to 1)    \n",
    "- Count they number of gun deaths by month and year\n",
    "\n"
   ]
  },
  {
   "cell_type": "code",
   "execution_count": 34,
   "metadata": {},
   "outputs": [
    {
     "name": "stdout",
     "output_type": "stream",
     "text": [
      "{datetime.datetime(2012, 1, 1, 0, 0): 2758, datetime.datetime(2012, 2, 1, 0, 0): 2357, datetime.datetime(2012, 3, 1, 0, 0): 2743, datetime.datetime(2012, 4, 1, 0, 0): 2795, datetime.datetime(2012, 5, 1, 0, 0): 2999, datetime.datetime(2012, 6, 1, 0, 0): 2826, datetime.datetime(2012, 7, 1, 0, 0): 3026, datetime.datetime(2012, 8, 1, 0, 0): 2954, datetime.datetime(2012, 9, 1, 0, 0): 2852, datetime.datetime(2012, 10, 1, 0, 0): 2733, datetime.datetime(2012, 11, 1, 0, 0): 2729, datetime.datetime(2012, 12, 1, 0, 0): 2791, datetime.datetime(2013, 1, 1, 0, 0): 2864, datetime.datetime(2013, 2, 1, 0, 0): 2375, datetime.datetime(2013, 3, 1, 0, 0): 2862, datetime.datetime(2013, 4, 1, 0, 0): 2798, datetime.datetime(2013, 5, 1, 0, 0): 2806, datetime.datetime(2013, 6, 1, 0, 0): 2920, datetime.datetime(2013, 7, 1, 0, 0): 3079, datetime.datetime(2013, 8, 1, 0, 0): 2859, datetime.datetime(2013, 9, 1, 0, 0): 2742, datetime.datetime(2013, 10, 1, 0, 0): 2808, datetime.datetime(2013, 11, 1, 0, 0): 2758, datetime.datetime(2013, 12, 1, 0, 0): 2765, datetime.datetime(2014, 1, 1, 0, 0): 2651, datetime.datetime(2014, 2, 1, 0, 0): 2361, datetime.datetime(2014, 3, 1, 0, 0): 2684, datetime.datetime(2014, 4, 1, 0, 0): 2862, datetime.datetime(2014, 5, 1, 0, 0): 2864, datetime.datetime(2014, 6, 1, 0, 0): 2931, datetime.datetime(2014, 7, 1, 0, 0): 2884, datetime.datetime(2014, 8, 1, 0, 0): 2970, datetime.datetime(2014, 9, 1, 0, 0): 2914, datetime.datetime(2014, 10, 1, 0, 0): 2864, datetime.datetime(2014, 11, 1, 0, 0): 2756, datetime.datetime(2014, 12, 1, 0, 0): 2857}\n"
     ]
    }
   ],
   "source": [
    "from datetime import datetime\n",
    "dates = set([datetime(lst[1], int(lst[2]), 1) for lst in lists ])\n",
    "# deaths_by_month_and_year = {key:0 for key in dates}\n",
    "\n",
    "# print(dates)\n",
    "deaths_by_month_and_year={}\n",
    "for lst in lists:\n",
    "    date = datetime(lst[1], int(lst[2]), 1)\n",
    "    if date in deaths_by_month_and_year.keys():\n",
    "        deaths_by_month_and_year[date] += 1\n",
    "    else:\n",
    "        deaths_by_month_and_year[date] = 1\n",
    "\n",
    "print(deaths_by_month_and_year)        "
   ]
  },
  {
   "cell_type": "markdown",
   "metadata": {},
   "source": [
    "### Assignment\n",
    "\n",
    "- Find the number of gun deaths by Sex\n",
    "- Find the number of gun deaths by Race\n",
    "- How does this compare to the overall population in the US?"
   ]
  },
  {
   "cell_type": "code",
   "execution_count": 58,
   "metadata": {},
   "outputs": [
    {
     "name": "stdout",
     "output_type": "stream",
     "text": [
      "deaths_by_gender\n",
      "{'M': 86348, 'F': 14449}\n",
      "deaths_by_race\n",
      "{'Asian/Pacific Islander': 1326, 'White': 66237, 'Native American/Native Alaskan': 917, 'Black': 23295, 'Hispanic': 9022}\n",
      "death_rate_by_gender_of_total\n",
      "{'M': 0.02861466586195568, 'F': 0.0047882210015217225}\n",
      "death_rate_by_race_of_total\n",
      "{'Asian/Pacific Islander': 0.00043942010159995874, 'White': 0.02195012765435631, 'Native American/Native Alaskan': 0.0003038825287836819, 'Black': 0.00771967667177303, 'Hispanic': 0.002989779906964425}\n"
     ]
    }
   ],
   "source": [
    "deaths_by_gender={\"M\":0,\"F\":0}\n",
    "deaths_by_race = {}\n",
    "for lst in lists:\n",
    "    if lst[5] == \"M\":\n",
    "        deaths_by_gender[\"M\"] += 1\n",
    "    elif lst[5]==\"F\":\n",
    "        deaths_by_gender[\"F\"] += 1\n",
    "    else:\n",
    "        pass\n",
    "    \n",
    "    if lst[7] in deaths_by_race.keys():\n",
    "        deaths_by_race[lst[7]] += 1\n",
    "    else:\n",
    "        deaths_by_race[lst[7]] = 1\n",
    "print(\"deaths_by_gender\")\n",
    "print(deaths_by_gender)\n",
    "print(\"deaths_by_race\")\n",
    "print(deaths_by_race)\n",
    "\n",
    "mapping = {\n",
    "    \"Asian/Pacific Islander\": 15159516 + 674625,\n",
    "    \"Native American/Native Alaskan\": 3739506,\n",
    "    \"Black\": 40250635,\n",
    "    \"Hispanic\": 44618105,\n",
    "    \"White\": 197318956\n",
    "}\n",
    "total_population = sum(mapping.values())\n",
    "death_rate_by_gender_of_total={key:(deaths_by_gender[key]/total_population*100) for key in deaths_by_gender.keys()}\n",
    "death_rate_by_race_of_total={key:(deaths_by_race[key]/total_population*100) for key in deaths_by_race.keys()}\n",
    "print(\"death_rate_by_gender_of_total\")\n",
    "print(death_rate_by_gender_of_total)\n",
    "print(\"death_rate_by_race_of_total\")\n",
    "print(death_rate_by_race_of_total)\n",
    "        "
   ]
  },
  {
   "cell_type": "markdown",
   "metadata": {},
   "source": [
    "### Assignment\n",
    "\n",
    "- Reuse the data structure counting deaths by race\n",
    "- Use the dictionary below that has the actual population of each race\n",
    "- Compute the rates of gun deaths per race per 100,000 people\n",
    "\n",
    "mapping = {\n",
    "    \"Asian/Pacific Islander\": 15159516 + 674625,\n",
    "    \"Native American/Native Alaskan\": 3739506,\n",
    "    \"Black\": 40250635,\n",
    "    \"Hispanic\": 44618105,\n",
    "    \"White\": 197318956\n",
    "}"
   ]
  },
  {
   "cell_type": "code",
   "execution_count": 56,
   "metadata": {},
   "outputs": [
    {
     "name": "stdout",
     "output_type": "stream",
     "text": [
      "death_rate_by_race_per_100k\n",
      "{'Asian/Pacific Islander': 8.374309664161762, 'White': 33.56849303419181, 'Native American/Native Alaskan': 24.521955573811088, 'Black': 57.87486334066531, 'Hispanic': 20.220491210910907}\n"
     ]
    }
   ],
   "source": [
    "death_rate_by_race_per_100k = {key:deaths_by_race[key]/mapping[key]*100000 for key in deaths_by_race.keys() }\n",
    "print(\"death_rate_by_race_per_100k\")\n",
    "print(death_rate_by_race_per_100k)"
   ]
  },
  {
   "cell_type": "markdown",
   "metadata": {},
   "source": [
    "### Assignment\n",
    "\n",
    "You may not know this, but over half of all gun deaths are suicide.\n",
    "\n",
    "- Redo the computation of rates of gun deaths per race per 100,000 people\n",
    "- This time only count those that are \"Homicide\"\n",
    "- How are these different than the previous calculation?\n"
   ]
  },
  {
   "cell_type": "code",
   "execution_count": 63,
   "metadata": {},
   "outputs": [
    {
     "name": "stdout",
     "output_type": "stream",
     "text": [
      "homicide_death_rate_by_race_per_100k\n",
      "{'White': 4.635641798145732, 'Asian/Pacific Islander': 3.5303462309701255, 'Black': 48.46880055431411, 'Native American/Native Alaskan': 8.71772902624039, 'Hispanic': 12.627161104218478}\n"
     ]
    }
   ],
   "source": [
    "homicide_death_rate_by_race_per_100k = {}\n",
    "for lst in lists:  \n",
    "    if lst[3] == \"Homicide\":\n",
    "        if lst[7] in homicide_death_rate_by_race_per_100k.keys():\n",
    "            homicide_death_rate_by_race_per_100k[lst[7]] += 1/mapping[lst[7]] * 100000\n",
    "        else:\n",
    "            homicide_death_rate_by_race_per_100k[lst[7]] = 1/mapping[lst[7]] * 100000\n",
    "print(\"homicide_death_rate_by_race_per_100k\")\n",
    "print(homicide_death_rate_by_race_per_100k)\n"
   ]
  },
  {
   "cell_type": "code",
   "execution_count": null,
   "metadata": {},
   "outputs": [],
   "source": []
  }
 ],
 "metadata": {
  "anaconda-cloud": {},
  "kernelspec": {
   "display_name": "Python 3",
   "language": "python",
   "name": "python3"
  },
  "language_info": {
   "codemirror_mode": {
    "name": "ipython",
    "version": 3
   },
   "file_extension": ".py",
   "mimetype": "text/x-python",
   "name": "python",
   "nbconvert_exporter": "python",
   "pygments_lexer": "ipython3",
   "version": "3.6.5"
  }
 },
 "nbformat": 4,
 "nbformat_minor": 1
}
